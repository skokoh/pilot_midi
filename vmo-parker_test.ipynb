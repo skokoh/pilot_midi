{
 "metadata": {
  "anaconda-cloud": {},
  "kernelspec": {
   "display_name": "Python [ipykernel_py2]",
   "language": "python",
   "name": "Python [ipykernel_py2]"
  },
  "language_info": {
   "codemirror_mode": {
    "name": "ipython",
    "version": 2
   },
   "file_extension": ".py",
   "mimetype": "text/x-python",
   "name": "python",
   "nbconvert_exporter": "python",
   "pygments_lexer": "ipython2",
   "version": "2.7.12"
  },
  "name": "",
  "signature": "sha256:a2e8121f417fbc4b184a352e3dd51ce8a65a06ef0273b264d132bd08d374c72c"
 },
 "nbformat": 3,
 "nbformat_minor": 0,
 "worksheets": [
  {
   "cells": [
    {
     "cell_type": "code",
     "collapsed": false,
     "input": [
      "%load_ext autoreload\n",
      "%autoreload 2"
     ],
     "language": "python",
     "metadata": {
      "tags": [
       "worksheet-0"
      ]
     },
     "outputs": [
      {
       "output_type": "stream",
       "stream": "stdout",
       "text": [
        "The autoreload extension is already loaded. To reload it, use:\n",
        "  %reload_ext autoreload\n"
       ]
      }
     ],
     "prompt_number": 5
    },
    {
     "cell_type": "code",
     "collapsed": false,
     "input": [
      "#import sys\n",
      "#sys.path.append('/Users/EJ/anaconda/pkgs')\n",
      "\n",
      "import numpy as np\n",
      "import os.path as path\n",
      "\n",
      "import matplotlib.pyplot as plt\n",
      "%matplotlib inline\n",
      "import sklearn.preprocessing as pre\n",
      "# import librosa\n",
      "import music21 as mus\n",
      "\n",
      "import vmo\n",
      "import vmo.analysis as van\n",
      "import vmo.generate as vge\n",
      "# Music analysis\n",
      "#import vmo.utils.chromagram as vchroma\n",
      "#import vmo.utils.music21_interface as vmusic\n",
      "#import vmo.utils.harmonic_changes as vharm\n",
      "# Logics\n",
      "#import vmo.logics.model_checking as vmodel"
     ],
     "language": "python",
     "metadata": {
      "tags": [
       "worksheet-0"
      ]
     },
     "outputs": [],
     "prompt_number": 9
    },
    {
     "cell_type": "code",
     "collapsed": false,
     "input": [
      "## Midi file access\n",
      "midi_path = path.expanduser('~/Musique/midi/')\n",
      "titles = ['blues_for_alice', 'marmaduke',\n",
      "          'now_s_the_time', 'ornithology']\n",
      "title = titles[2]\n",
      "midi_file = 'charlie_parker/omnibook/' + title + '.mid'\n",
      "\n",
      "\"\"\"Oracle generation.\"\"\"\n",
      "\n",
      "# Generate music21 stream from MIDI file\n",
      "stream_full_band = mus.converter.parse(midi_path + midi_file)\n",
      "stream = stream_full_band[2]\n",
      "\n",
      "# Extract the sequences of notes from the stream\n",
      "notes = stream.flat.notes\n",
      "\n",
      "# Generate VMO from music21 stream\n",
      "oracle = vmusic.from_stream(notes, framesize=4.0, dfunc='tonnetz', threshold=0.2)"
     ],
     "language": "python",
     "metadata": {
      "tags": [
       "worksheet-0"
      ]
     },
     "outputs": []
    },
    {
     "cell_type": "code",
     "collapsed": false,
     "input": [
      "# stream.show('text')"
     ],
     "language": "python",
     "metadata": {},
     "outputs": []
    },
    {
     "cell_type": "code",
     "collapsed": false,
     "input": [
      "\"\"\"Harmonic changes detection and chord progression extraction.\"\"\"\n",
      "\n",
      "# Extract the first 16 quarter-notes\n",
      "_beginning_notes = vmusic.extract_frame(notes, 0., 32.)\n",
      "# Compute offsets of harmonic changes (in quarter-length)\n",
      "harmonic_changes = vharm.from_stream_by_offsets(\n",
      "    _beginning_notes, framesize=1/4.)\n",
      "# Compute the chord progression in the extracted frame\n",
      "prog = vmusic.get_chord_progression(_beginning_notes)\n",
      "\n",
      "print(\"First two measures:\")\n",
      "_beginning_notes.show('text')\n",
      "print(\"\\nExtracted progression:\\n\" + str(prog))\n",
      "print(\"\\nHarmonic changes:\\n\" + str(harmonic_changes))"
     ],
     "language": "python",
     "metadata": {
      "scrolled": true,
      "tags": [
       "worksheet-0"
      ]
     },
     "outputs": [
      {
       "ename": "NameError",
       "evalue": "name 'vmusic' is not defined",
       "output_type": "pyerr",
       "traceback": [
        "\u001b[0;31m---------------------------------------------------------------------------\u001b[0m\n\u001b[0;31mNameError\u001b[0m                                 Traceback (most recent call last)",
        "\u001b[0;32m<ipython-input-6-a2386d622361>\u001b[0m in \u001b[0;36m<module>\u001b[0;34m()\u001b[0m\n\u001b[1;32m      2\u001b[0m \u001b[0;34m\u001b[0m\u001b[0m\n\u001b[1;32m      3\u001b[0m \u001b[0;31m# Extract the first 16 quarter-notes\u001b[0m\u001b[0;34m\u001b[0m\u001b[0;34m\u001b[0m\u001b[0m\n\u001b[0;32m----> 4\u001b[0;31m \u001b[0m_beginning_notes\u001b[0m \u001b[0;34m=\u001b[0m \u001b[0mvmusic\u001b[0m\u001b[0;34m.\u001b[0m\u001b[0mextract_frame\u001b[0m\u001b[0;34m(\u001b[0m\u001b[0mnotes\u001b[0m\u001b[0;34m,\u001b[0m \u001b[0;36m0.\u001b[0m\u001b[0;34m,\u001b[0m \u001b[0;36m32.\u001b[0m\u001b[0;34m)\u001b[0m\u001b[0;34m\u001b[0m\u001b[0m\n\u001b[0m\u001b[1;32m      5\u001b[0m \u001b[0;31m# Compute offsets of harmonic changes (in quarter-length)\u001b[0m\u001b[0;34m\u001b[0m\u001b[0;34m\u001b[0m\u001b[0m\n\u001b[1;32m      6\u001b[0m harmonic_changes = vharm.from_stream_by_offsets(\n",
        "\u001b[0;31mNameError\u001b[0m: name 'vmusic' is not defined"
       ]
      }
     ],
     "prompt_number": 6
    },
    {
     "cell_type": "code",
     "collapsed": false,
     "input": [
      "# Extract one frame from the oracle using the original stream\n",
      "vmusic.extract_frame_oracle(stream.flat, oracle, 6).flat.show('text')"
     ],
     "language": "python",
     "metadata": {
      "tags": [
       "worksheet-0"
      ]
     },
     "outputs": [
      {
       "ename": "NameError",
       "evalue": "name 'vmusic' is not defined",
       "output_type": "pyerr",
       "traceback": [
        "\u001b[0;31m---------------------------------------------------------------------------\u001b[0m\n\u001b[0;31mNameError\u001b[0m                                 Traceback (most recent call last)",
        "\u001b[0;32m<ipython-input-4-5fc51c036c8d>\u001b[0m in \u001b[0;36m<module>\u001b[0;34m()\u001b[0m\n\u001b[1;32m      1\u001b[0m \u001b[0;31m# Extract one frame from the oracle using the original stream\u001b[0m\u001b[0;34m\u001b[0m\u001b[0;34m\u001b[0m\u001b[0m\n\u001b[0;32m----> 2\u001b[0;31m \u001b[0mvmusic\u001b[0m\u001b[0;34m.\u001b[0m\u001b[0mextract_frame_oracle\u001b[0m\u001b[0;34m(\u001b[0m\u001b[0mstream\u001b[0m\u001b[0;34m.\u001b[0m\u001b[0mflat\u001b[0m\u001b[0;34m,\u001b[0m \u001b[0moracle\u001b[0m\u001b[0;34m,\u001b[0m \u001b[0;36m6\u001b[0m\u001b[0;34m)\u001b[0m\u001b[0;34m.\u001b[0m\u001b[0mflat\u001b[0m\u001b[0;34m.\u001b[0m\u001b[0mshow\u001b[0m\u001b[0;34m(\u001b[0m\u001b[0;34m'text'\u001b[0m\u001b[0;34m)\u001b[0m\u001b[0;34m\u001b[0m\u001b[0m\n\u001b[0m",
        "\u001b[0;31mNameError\u001b[0m: name 'vmusic' is not defined"
       ]
      }
     ],
     "prompt_number": 4
    },
    {
     "cell_type": "code",
     "collapsed": false,
     "input": [
      "\"\"\"Integrated MIDI playback.\n",
      "\n",
      "Might need some parameters-tweaking to work if midi player binding is not\n",
      "done straight out-of-the-box with music21.\n",
      "\n",
      "In that case, run:\n",
      ">>> from music21 import *\n",
      ">>> us = environment.UserSettings()\n",
      ">>> us.create()\n",
      ">>> us['midiPath'] = <PATH/TO/MIDI/PLAYER>\n",
      ">>> # Example : us['midiPath'] = u'/usr/bin/totem-audio-preview'\n",
      "\"\"\"\n",
      "\n",
      "# _beginning_notes.show('midi')"
     ],
     "language": "python",
     "metadata": {
      "tags": [
       "worksheet-0"
      ]
     },
     "outputs": [
      {
       "metadata": {},
       "output_type": "pyout",
       "prompt_number": 5,
       "text": [
        "\"Integrated MIDI playback.\\n\\nMight need some parameters-tweaking to work if midi player binding is not\\ndone straight out-of-the-box with music21.\\n\\nIn that case, run:\\n>>> from music21 import *\\n>>> us = environment.UserSettings()\\n>>> us.create()\\n>>> us['midiPath'] = <PATH/TO/MIDI/PLAYER>\\n>>> # Example : us['midiPath'] = u'/usr/bin/totem-audio-preview'\\n\""
       ]
      }
     ],
     "prompt_number": 5
    },
    {
     "cell_type": "code",
     "collapsed": false,
     "input": [
      "\"\"\"Chord-progression extraction.\"\"\"\n",
      "# Two sequences of degrees. We will try to generate a path following the first\n",
      "# then the second (possibibly with a non-empty arbitrary path between both) in `oracle`\n",
      "\n",
      "prog_1 = [[1, 4, 7, 3, 6, 7, 3, 6]]\n",
      "prog_2 = [[1, 4, 2, 5, 1, 6, 2, 5]]\n",
      "\n",
      "gen_path_1, chosen_tonic_1 = vmodel.make_progression_from_degrees(\n",
      "    oracle, prog_1, original_stream=stream, enable_motions=True)\n",
      "gen_path_2, chosen_tonic_2 = vmodel.make_progression_from_degrees(\n",
      "    oracle, prog_2, original_stream=stream, enable_motions=True)\n",
      "\n",
      "def path_printer(path, tonic):\n",
      "    if path:\n",
      "        print(\"A path has successfully been generated!\")\n",
      "        print(\"The chosen tonic is: \" + tonic)\n",
      "        print(\"\\nThe path is the following: \\n\")\n",
      "        for state in path:\n",
      "            print(state)\n",
      "    else:\n",
      "        print(\"No path was found.\")\n",
      "\n",
      "print(\"Path 1\\n\")\n",
      "path_printer(gen_path_1, chosen_tonic_1)\n",
      "\n",
      "print(\"\\n===\\n\\nPath 2\\n\")\n",
      "path_printer(gen_path_2, chosen_tonic_2)\n"
     ],
     "language": "python",
     "metadata": {
      "tags": [
       "worksheet-0"
      ]
     },
     "outputs": [
      {
       "ename": "NameError",
       "evalue": "name 'vmodel' is not defined",
       "output_type": "pyerr",
       "traceback": [
        "\u001b[0;31m---------------------------------------------------------------------------\u001b[0m\n\u001b[0;31mNameError\u001b[0m                                 Traceback (most recent call last)",
        "\u001b[0;32m<ipython-input-6-5a148b2e3a29>\u001b[0m in \u001b[0;36m<module>\u001b[0;34m()\u001b[0m\n\u001b[1;32m      6\u001b[0m \u001b[0mprog_2\u001b[0m \u001b[0;34m=\u001b[0m \u001b[0;34m[\u001b[0m\u001b[0;34m[\u001b[0m\u001b[0;36m1\u001b[0m\u001b[0;34m,\u001b[0m \u001b[0;36m4\u001b[0m\u001b[0;34m,\u001b[0m \u001b[0;36m2\u001b[0m\u001b[0;34m,\u001b[0m \u001b[0;36m5\u001b[0m\u001b[0;34m,\u001b[0m \u001b[0;36m1\u001b[0m\u001b[0;34m,\u001b[0m \u001b[0;36m6\u001b[0m\u001b[0;34m,\u001b[0m \u001b[0;36m2\u001b[0m\u001b[0;34m,\u001b[0m \u001b[0;36m5\u001b[0m\u001b[0;34m]\u001b[0m\u001b[0;34m]\u001b[0m\u001b[0;34m\u001b[0m\u001b[0m\n\u001b[1;32m      7\u001b[0m \u001b[0;34m\u001b[0m\u001b[0m\n\u001b[0;32m----> 8\u001b[0;31m gen_path_1, chosen_tonic_1 = vmodel.make_progression_from_degrees(\n\u001b[0m\u001b[1;32m      9\u001b[0m     oracle, prog_1, original_stream=stream, enable_motions=True)\n\u001b[1;32m     10\u001b[0m gen_path_2, chosen_tonic_2 = vmodel.make_progression_from_degrees(\n",
        "\u001b[0;31mNameError\u001b[0m: name 'vmodel' is not defined"
       ]
      }
     ],
     "prompt_number": 6
    },
    {
     "cell_type": "code",
     "collapsed": false,
     "input": [
      "def midiSave(stream, filename):\n",
      "    mf = mus.midi.translate.streamToMidiFile(stream)\n",
      "    mf.open(filename + '.mid', 'wb')\n",
      "    mf.write()\n",
      "\n",
      "# Recompose new stream from extracted path\n",
      "\n",
      "if gen_path_1:\n",
      "    extracted_1 = vmusic.path_to_stream(notes, gen_path_1[0:-1], framesize=4.0).quantize()\n",
      "    midiSave(extracted_1, title + '_genpath_1')\n",
      "\n",
      "if gen_path_2:\n",
      "    extracted_2 = vmusic.path_to_stream(notes, gen_path_2[0:-1], framesize=4.0).quantize()\n",
      "    midiSave(extracted_2, title + '_genpath_2')\n",
      "    \n",
      "    # Plot piano roll of the extrated stream + playback\n",
      "    extracted_2.plot('pianoroll')\n",
      "    extracted_2.show('midi')"
     ],
     "language": "python",
     "metadata": {
      "tags": [
       "worksheet-0"
      ]
     },
     "outputs": [
      {
       "ename": "NameError",
       "evalue": "name 'gen_path_1' is not defined",
       "output_type": "pyerr",
       "traceback": [
        "\u001b[0;31m---------------------------------------------------------------------------\u001b[0m\n\u001b[0;31mNameError\u001b[0m                                 Traceback (most recent call last)",
        "\u001b[0;32m<ipython-input-7-8eefd2943733>\u001b[0m in \u001b[0;36m<module>\u001b[0;34m()\u001b[0m\n\u001b[1;32m      6\u001b[0m \u001b[0;31m# Recompose new stream from extracted path\u001b[0m\u001b[0;34m\u001b[0m\u001b[0;34m\u001b[0m\u001b[0m\n\u001b[1;32m      7\u001b[0m \u001b[0;34m\u001b[0m\u001b[0m\n\u001b[0;32m----> 8\u001b[0;31m \u001b[0;32mif\u001b[0m \u001b[0mgen_path_1\u001b[0m\u001b[0;34m:\u001b[0m\u001b[0;34m\u001b[0m\u001b[0m\n\u001b[0m\u001b[1;32m      9\u001b[0m     \u001b[0mextracted_1\u001b[0m \u001b[0;34m=\u001b[0m \u001b[0mvmusic\u001b[0m\u001b[0;34m.\u001b[0m\u001b[0mpath_to_stream\u001b[0m\u001b[0;34m(\u001b[0m\u001b[0mnotes\u001b[0m\u001b[0;34m,\u001b[0m \u001b[0mgen_path_1\u001b[0m\u001b[0;34m[\u001b[0m\u001b[0;36m0\u001b[0m\u001b[0;34m:\u001b[0m\u001b[0;34m-\u001b[0m\u001b[0;36m1\u001b[0m\u001b[0;34m]\u001b[0m\u001b[0;34m,\u001b[0m \u001b[0mframesize\u001b[0m\u001b[0;34m=\u001b[0m\u001b[0;36m4.0\u001b[0m\u001b[0;34m)\u001b[0m\u001b[0;34m.\u001b[0m\u001b[0mquantize\u001b[0m\u001b[0;34m(\u001b[0m\u001b[0;34m)\u001b[0m\u001b[0;34m\u001b[0m\u001b[0m\n\u001b[1;32m     10\u001b[0m     \u001b[0mmidiSave\u001b[0m\u001b[0;34m(\u001b[0m\u001b[0mextracted_1\u001b[0m\u001b[0;34m,\u001b[0m \u001b[0mtitle\u001b[0m \u001b[0;34m+\u001b[0m \u001b[0;34m'_genpath_1'\u001b[0m\u001b[0;34m)\u001b[0m\u001b[0;34m\u001b[0m\u001b[0m\n",
        "\u001b[0;31mNameError\u001b[0m: name 'gen_path_1' is not defined"
       ]
      }
     ],
     "prompt_number": 7
    },
    {
     "cell_type": "code",
     "collapsed": true,
     "input": [
      "test_list = [1, 2, 3, 4, 5, 6]"
     ],
     "language": "python",
     "metadata": {},
     "outputs": [],
     "prompt_number": 8
    },
    {
     "cell_type": "code",
     "collapsed": false,
     "input": [
      "['test', 'a', 'dzadzd'][0]"
     ],
     "language": "python",
     "metadata": {},
     "outputs": [
      {
       "metadata": {},
       "output_type": "pyout",
       "prompt_number": 9,
       "text": [
        "'test'"
       ]
      }
     ],
     "prompt_number": 9
    },
    {
     "cell_type": "code",
     "collapsed": true,
     "input": [],
     "language": "python",
     "metadata": {},
     "outputs": [],
     "prompt_number": null
    }
   ],
   "metadata": {}
  }
 ]
}