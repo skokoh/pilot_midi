{
 "cells": [
  {
   "cell_type": "code",
   "execution_count": 1,
   "metadata": {
    "collapsed": false,
    "tags": [
     "worksheet-0"
    ]
   },
   "outputs": [],
   "source": [
    "%load_ext autoreload\n",
    "%autoreload 2"
   ]
  },
  {
   "cell_type": "code",
   "execution_count": 5,
   "metadata": {
    "collapsed": false,
    "tags": [
     "worksheet-0"
    ]
   },
   "outputs": [
    {
     "name": "stderr",
     "output_type": "stream",
     "text": [
      "/Users/EJ/anaconda/lib/python2.7/site-packages/fuzzywuzzy/fuzz.py:35: UserWarning: Using slow pure-python SequenceMatcher. Install python-Levenshtein to remove this warning\n",
      "  warnings.warn('Using slow pure-python SequenceMatcher. Install python-Levenshtein to remove this warning')\n"
     ]
    }
   ],
   "source": [
    "import sys\n",
    "sys.path.append('/Users/EJ/dev/vmo/vmo/utils')\n",
    "sys.path.append('/Users/EJ/dev/vmo/vmo/utils/nuxmv')\n",
    "sys.path.append('/Users/EJ/dev/vmo/vmo/distances')\n",
    "sys.path.append('/Users/EJ/dev/vmo/vmo/analysis')\n",
    "sys.path.append('/Users/EJ/dev/vmo/vmo/logics')\n",
    "sys.path.append('/Users/EJ/dev/vmo/vmo')\n",
    "sys.path.append('/Users/EJ/dev/vmo/VMO')\n",
    "\n",
    "\n",
    "\n",
    "\n",
    "# /Users/EJ/dev/vmo/vmo/utils\n",
    "# chromagram.py  harmonic_changes.py  music21_interface.py\n",
    "\n",
    "\n",
    "import chromagram as vchroma\n",
    "import harmonic_changes as vharm\n",
    "import music21_interface as vmusic\n",
    "import model_checking as vmodel\n",
    "import tonnetz as ton\n",
    "\n",
    "#import analysis as van\n",
    "#import generate as vge\n",
    "\n",
    "\n",
    "import numpy as np\n",
    "import os.path as path\n",
    "\n",
    "import matplotlib.pyplot as plt\n",
    "%matplotlib inline\n",
    "import sklearn.preprocessing as pre\n",
    "# import librosa\n",
    "import music21 as mus\n",
    "\n",
    "import vmo\n",
    "import vmo.analysis as van\n",
    "import vmo.generate as vge\n",
    "\n",
    "# Music analysis\n",
    "##import vmo.utils.chromagram as vchroma\n",
    "##import vmo.utils.music21_interface as vmusic\n",
    "##import vmo.utils.harmonic_changes as vharm\n",
    "\n",
    "# Logics\n",
    "##import vmo.logics.model_checking as vmodel"
   ]
  },
  {
   "cell_type": "code",
   "execution_count": 6,
   "metadata": {
    "collapsed": false
   },
   "outputs": [],
   "source": [
    "## Midi file access\n",
    "midi_path = path.expanduser('/Users/EJ/dev/vmo/bin/files/midi/parker_omnibook/')\n",
    "titles = ['blues_for_alice', 'marmaduke',\n",
    "          'now_s_the_time', 'ornithology']\n",
    "def make_filename(title):\n",
    "    midi_file = title + '.mid'\n",
    "    return midi_path + midi_file\n",
    "    \n",
    "\"\"\"Oracle generation.\"\"\"\n",
    "\n",
    "# Generate music21 stream from MIDI file\n",
    "\n",
    "# Choose whether all pieces should be concatenated as a corpus\n",
    "concatenate = False\n",
    "\n",
    "if concatenate:\n",
    "    # Initialize new, empty stream\n",
    "    notes = mus.stream.Stream()\n",
    "    for title in titles:\n",
    "        # Aggregate all four titles\n",
    "        stream_full_band = mus.converter.parse(make_filename(title))\n",
    "        stream_piano = stream_full_band[2]\n",
    "        flat_piano = stream_piano.flat.notesAndRests.quantize()\n",
    "        \n",
    "        duration = flat_piano.duration.quarterLength\n",
    "        delta_quadratura = duration % 4\n",
    "        flat_piano.append(mus.note.Rest(delta_quadratura))\n",
    "        \n",
    "        notes.append(flat_piano.flat.notesAndRests.quantize())\n",
    "    notes = notes.flat.notesAndRests.quantize()\n",
    "    chosen_title = 'Concatenation'\n",
    "else:\n",
    "    chosen_title = titles[3]  # Choose among the proposed titles\n",
    "    stream_full_band = mus.converter.parse(make_filename(chosen_title))\n",
    "    stream_piano = stream_full_band[2]\n",
    "    notes = stream_piano.flat.notesAndRests.quantize()"
   ]
  },
  {
   "cell_type": "code",
   "execution_count": 7,
   "metadata": {
    "collapsed": false,
    "tags": [
     "worksheet-0"
    ]
   },
   "outputs": [
    {
     "name": "stderr",
     "output_type": "stream",
     "text": [
      "/Users/EJ/dev/vmo/vmo/VMO/oracle.py:756: VisibleDeprecationWarning: converting an array with ndim > 0 to an index will result in an error in the future\n",
      "  suffix_candidate = self.trn[k][earliest_close_feat]\n"
     ]
    }
   ],
   "source": [
    "# Generate VMO from music21 stream\n",
    "\n",
    "oracle = vmusic.from_stream(notes, framesize=4.0, dfunc='tonnetz', threshold=2)"
   ]
  },
  {
   "cell_type": "code",
   "execution_count": 8,
   "metadata": {
    "collapsed": false
   },
   "outputs": [
    {
     "name": "stdout",
     "output_type": "stream",
     "text": [
      "{0.0} <music21.note.Rest rest>\n",
      "{0.0} <music21.note.Rest rest>\n",
      "{0.0} <music21.note.Rest rest>\n",
      "{8.0} <music21.chord.Chord G3 B3 D4>\n",
      "{8.0} <music21.note.Note G>\n",
      "{8.0} <music21.note.Rest rest>\n",
      "{12.75} <music21.note.Note G>\n",
      "{13.0} <music21.note.Note B>\n",
      "{13.0} <music21.note.Note B>\n",
      "{13.0} <music21.note.Rest rest>\n",
      "{13.0} <music21.note.Note D>\n",
      "{13.75} <music21.chord.Chord B3 B4>\n",
      "{13.75} <music21.note.Note D>\n",
      "{14.75} <music21.note.Note G>\n",
      "{15.0} <music21.note.Note B>\n",
      "{15.0} <music21.note.Note B>\n",
      "{15.0} <music21.note.Note D>\n",
      "{16.0} <music21.note.Note G>\n",
      "{17.0} <music21.chord.Chord G3 G4 B-3 D4>\n",
      "{18.75} <music21.chord.Chord D4 B-3 G3>\n",
      "{20.0} <music21.note.Note C>\n",
      "{21.75} <music21.chord.Chord E4 C4 B-3 G4>\n",
      "{24.0} <music21.chord.Chord F3 F4 A3 C4>\n",
      "{24.0} <music21.note.Note F>\n",
      "{28.0} <music21.note.Note F>\n",
      "{28.0} <music21.chord.Chord F4 A3 C4>\n",
      "{29.6667} <music21.chord.Chord F3 F4 A3 C4>\n",
      "{30.6667} <music21.note.Note C>\n",
      "{32.0} <music21.note.Note F>\n",
      "{33.75} <music21.chord.Chord F4 C4 G#3>\n",
      "{36.0} <music21.chord.Chord G#3 C5 D4 F4>\n",
      "{36.0} <music21.note.Note B->\n",
      "{40.0} <music21.chord.Chord C#4 E-4 G3 B-4>\n",
      "{40.0} <music21.note.Note E->\n",
      "{43.6667} <music21.chord.Chord F#3 A4 C4 E-4>\n",
      "{43.75} <music21.note.Note A>\n",
      "{46.0} <music21.chord.Chord C4 E4 F#3 B4 G#3 D3>\n",
      "{46.6667} <music21.note.Note A>\n",
      "{47.0} <music21.note.Note D>\n",
      "{47.6667} <music21.note.Note C>\n",
      "{48.0} <music21.chord.Chord G3 G4 B-3 D4>\n",
      "{48.0} <music21.note.Note G>\n",
      "{49.6667} <music21.chord.Chord G3 G4 B-3 D4>\n",
      "{50.6667} <music21.note.Note D>\n",
      "{52.0} <music21.chord.Chord D3 C4 E-4 F#3 B-4>\n",
      "{53.6667} <music21.note.Note A>\n",
      "{54.0} <music21.chord.Chord C4 E-4 F#3 B-4>\n",
      "{54.6667} <music21.note.Note A>\n",
      "{55.0} <music21.chord.Chord C4 E-4 F#3 B-4>\n",
      "{56.0} <music21.chord.Chord B3 B4 D4 F#4>\n",
      "{56.0} <music21.note.Note B>\n",
      "{60.0} <music21.chord.Chord D4 F4 G#3 C5>\n",
      "{60.0} <music21.note.Note E>\n",
      "{61.6667} <music21.chord.Chord D4 F4 G#3 C5>\n",
      "{62.6667} <music21.note.Note B>\n",
      "{63.75} <music21.chord.Chord E4 C4 A3>\n",
      "{63.75} <music21.note.Note A>\n",
      "{65.75} <music21.chord.Chord E4 C4 A3>\n",
      "{67.0} <music21.note.Note E>\n",
      "{67.6667} <music21.note.Note C>\n",
      "{68.0} <music21.note.Note D>\n",
      "{68.75} <music21.chord.Chord C4 E4 F#3 B3>\n",
      "{70.75} <music21.chord.Chord C4 E4 F#3 B3>\n",
      "{72.0} <music21.chord.Chord G3 G4 B3 D4>\n",
      "{72.0} <music21.note.Note G>\n",
      "{76.0} <music21.note.Note G>\n",
      "{77.75} <music21.chord.Chord D4 B3 G3>\n",
      "{80.0} <music21.note.Note G>\n",
      "{81.0} <music21.chord.Chord G3 G4 B-3 D4>\n",
      "{82.75} <music21.chord.Chord D4 B-3 G3>\n",
      "{84.0} <music21.chord.Chord B-3 C#4 E3 G#3>\n",
      "{84.0} <music21.note.Note C>\n",
      "{88.0} <music21.note.Note F>\n",
      "{88.0} <music21.chord.Chord A3 C4>\n",
      "{92.0} <music21.note.Note F>\n",
      "{92.0} <music21.chord.Chord F4 A3 C4>\n",
      "{96.0} <music21.note.Note F>\n",
      "{97.75} <music21.chord.Chord F4 C4 G#3>\n",
      "{100.0} <music21.note.Note B->\n",
      "{101.6667} <music21.note.Note B->\n",
      "{102.0} <music21.chord.Chord G#3 C4 D4 G4>\n",
      "{102.6667} <music21.note.Note B->\n",
      "{103.0} <music21.chord.Chord G#3 C4 D4 G4>\n",
      "{104.0} <music21.chord.Chord C#4 F4 G3 C5>\n",
      "{104.0} <music21.note.Note E->\n",
      "{105.6667} <music21.chord.Chord C#4 F4 G3 C5>\n",
      "{106.6667} <music21.note.Note B->\n",
      "{108.0} <music21.chord.Chord F#3 A3 C4 E-4>\n",
      "{108.0} <music21.note.Note A>\n",
      "{110.0} <music21.note.Note D>\n",
      "{110.6667} <music21.chord.Chord C4 D4 F#3 A4>\n",
      "{112.0} <music21.chord.Chord G3 G4 B3 D4>\n",
      "{112.0} <music21.note.Note G>\n",
      "{113.6667} <music21.chord.Chord G3 G4 B3 D4>\n",
      "{114.6667} <music21.note.Note D>\n",
      "{116.0} <music21.note.Note G>\n",
      "{117.0} <music21.chord.Chord G4 B3>\n",
      "{117.0} <music21.note.Note D>\n",
      "{117.75} <music21.note.Note B>\n",
      "{118.0} <music21.note.Note D>\n",
      "{118.0} <music21.chord.Chord B3 G4>\n",
      "{118.75} <music21.chord.Chord G4 B3>\n",
      "{118.75} <music21.note.Note D>\n",
      "{120.0} <music21.chord.Chord B3 B4 D4 F#4>\n",
      "{120.0} <music21.note.Note B>\n",
      "{124.75} <music21.note.Note E>\n",
      "{125.0} <music21.note.Note D>\n",
      "{125.0} <music21.note.Note E>\n",
      "{125.0} <music21.note.Note G#>\n",
      "{125.75} <music21.chord.Chord E3 D4>\n",
      "{125.75} <music21.note.Note G#>\n",
      "{126.75} <music21.note.Note E>\n",
      "{127.0} <music21.note.Note D>\n",
      "{127.0} <music21.note.Note E>\n",
      "{127.0} <music21.note.Note G#>\n",
      "{128.0} <music21.chord.Chord A3 A4 C4 E4>\n",
      "{128.0} <music21.note.Note A>\n",
      "{130.0} <music21.note.Note D>\n",
      "{130.6667} <music21.chord.Chord C4 E4 F#3 B4 G#3>\n",
      "{132.0} <music21.chord.Chord G3 G4 B3 D4>\n",
      "{132.0} <music21.note.Note G>\n",
      "{133.6667} <music21.chord.Chord D4 F4 G#3 C5 E3>\n",
      "{135.6667} <music21.chord.Chord A3 A4 C4 E4>\n",
      "{135.75} <music21.note.Note A>\n",
      "{137.75} <music21.chord.Chord F#4 D4 C4 A4>\n",
      "{137.75} <music21.note.Note D>\n",
      "{140.0} <music21.chord.Chord G3 G4 B3 D4>\n",
      "{140.0} <music21.note.Note G>\n",
      "{144.0} <music21.note.Note G>\n",
      "{145.75} <music21.chord.Chord D4 B3 G3>\n",
      "{148.75} <music21.note.Note G>\n",
      "{149.0} <music21.note.Note B->\n",
      "{149.0} <music21.note.Note B->\n",
      "{149.0} <music21.note.Note D>\n",
      "{149.75} <music21.chord.Chord B-3 B-4>\n",
      "{149.75} <music21.note.Note D>\n",
      "{150.75} <music21.note.Note G>\n",
      "{151.0} <music21.note.Note B->\n",
      "{151.0} <music21.note.Note B->\n",
      "{151.0} <music21.note.Note D>\n",
      "{152.0} <music21.note.Note C>\n",
      "{153.0} <music21.chord.Chord B-3 C4 E3 G4>\n",
      "{154.75} <music21.chord.Chord E4 C4 B-3 G4>\n",
      "{156.0} <music21.note.Note F>\n",
      "{157.75} <music21.chord.Chord F4 C4 A3>\n",
      "{160.0} <music21.chord.Chord F4 C4 A3>\n",
      "{160.0} <music21.note.Note F>\n",
      "{161.75} <music21.chord.Chord F4 C4 A3>\n",
      "{163.0} <music21.note.Note A>\n",
      "{163.75} <music21.chord.Chord F4 C4 G#3>\n",
      "{163.75} <music21.note.Note F>\n",
      "{165.75} <music21.chord.Chord F4 C4 G#3>\n",
      "{167.0} <music21.note.Note G#>\n",
      "{167.6667} <music21.note.Note F>\n",
      "{168.0} <music21.chord.Chord G#3 C5 D4 G4>\n",
      "{168.0} <music21.note.Note B->\n",
      "{172.0} <music21.note.Note E->\n",
      "{173.75} <music21.chord.Chord C#4 F4 G3 B-3>\n",
      "{174.6667} <music21.note.Note B->\n",
      "{175.0} <music21.note.Note E->\n",
      "{176.0} <music21.chord.Chord F#3 A4 C4 E-4 A2>\n",
      "{178.0} <music21.note.Note D>\n",
      "{178.6667} <music21.chord.Chord C4 D4 F#3 A4>\n",
      "{179.75} <music21.chord.Chord B-4 G4 D4>\n",
      "{179.75} <music21.note.Note G>\n",
      "{181.75} <music21.chord.Chord B-4 G4 D4>\n",
      "{182.75} <music21.note.Note D>\n",
      "{183.6667} <music21.note.Note G>\n",
      "{184.0} <music21.chord.Chord C4 F4 F#3 A4 D3>\n",
      "{186.75} <music21.note.Note C>\n",
      "{187.6667} <music21.note.Note E->\n",
      "{188.0} <music21.note.Note B>\n",
      "{189.0} <music21.chord.Chord B3 B4 D4 F#4>\n",
      "{190.75} <music21.chord.Chord D4 B3 F#3>\n",
      "{192.0} <music21.note.Note E>\n",
      "{193.75} <music21.chord.Chord E4 D4 B3 G#4>\n",
      "{194.6667} <music21.note.Note F>\n",
      "{195.6667} <music21.note.Note B>\n",
      "{196.0} <music21.note.Note A>\n",
      "{197.75} <music21.chord.Chord E4 C4 A3>\n",
      "{198.6667} <music21.note.Note E>\n",
      "{199.6667} <music21.note.Note C>\n",
      "{200.0} <music21.note.Note D>\n",
      "{201.0} <music21.chord.Chord C4 E4 F#3 B3 G#3>\n",
      "{202.75} <music21.chord.Chord F#4 D4 C4 A4>\n",
      "{204.0} <music21.chord.Chord D4 B3 G3>\n",
      "{204.0} <music21.note.Note G>\n",
      "{205.75} <music21.chord.Chord D4 B3 G3>\n",
      "{206.75} <music21.note.Note D>\n",
      "{207.6667} <music21.chord.Chord G3 G4 B3 D4 G2>\n",
      "{210.75} <music21.note.Note D>\n",
      "{212.0} <music21.chord.Chord D4 B-3 G3>\n",
      "{212.75} <music21.note.Note G>\n",
      "{214.6667} <music21.chord.Chord B-3 C#4 E3 G#4 C3>\n",
      "{216.0} <music21.note.Note F>\n",
      "{216.75} <music21.chord.Chord F3 F4 A3 C4>\n",
      "{217.6667} <music21.note.Note C>\n",
      "{218.0} <music21.note.Note F>\n",
      "{218.75} <music21.chord.Chord F3 F4 A3 C4>\n",
      "{219.6667} <music21.note.Note A>\n",
      "{220.0} <music21.chord.Chord F3 F4 A3 C4 F2>\n",
      "{220.75} <music21.chord.Chord F3 F4 A3 C4>\n",
      "{221.6667} <music21.note.Note C>\n",
      "{222.75} <music21.note.Note A>\n",
      "{223.6667} <music21.note.Note F>\n",
      "{224.0} <music21.chord.Chord F3 G#3 C4 F2>\n",
      "{224.75} <music21.chord.Chord F3 G#3 C4>\n",
      "{225.6667} <music21.note.Note C>\n",
      "{226.75} <music21.note.Note G#>\n",
      "{227.6667} <music21.note.Note F>\n",
      "{228.0} <music21.chord.Chord D4 B-3 G#3 F4>\n",
      "{228.0} <music21.note.Note B->\n",
      "{229.75} <music21.chord.Chord D4 B-3 G#3 F4>\n",
      "{230.75} <music21.note.Note F>\n",
      "{231.6667} <music21.note.Note D>\n",
      "{232.75} <music21.note.Note E->\n",
      "{233.0} <music21.note.Note C#>\n",
      "{233.0} <music21.note.Note E->\n",
      "{233.0} <music21.note.Note G>\n",
      "{233.75} <music21.chord.Chord E-3 C#4>\n",
      "{233.75} <music21.note.Note G>\n",
      "{234.75} <music21.note.Note E->\n",
      "{235.0} <music21.note.Note C#>\n",
      "{235.0} <music21.note.Note E->\n",
      "{235.0} <music21.note.Note G>\n",
      "{235.6667} <music21.chord.Chord F#3 A4 C4 E-4 A2>\n",
      "{237.6667} <music21.chord.Chord C4 E4 F#3 B3 G#3>\n",
      "{237.75} <music21.note.Note D>\n",
      "{239.75} <music21.chord.Chord D4 B3 G3>\n",
      "{239.75} <music21.note.Note G>\n",
      "{241.75} <music21.chord.Chord D4 B3 G3>\n",
      "{242.75} <music21.note.Note D>\n",
      "{244.0} <music21.chord.Chord E-4 C4 G3>\n",
      "{244.75} <music21.note.Note C>\n",
      "{246.0} <music21.note.Note F>\n",
      "{246.6667} <music21.chord.Chord E-3 G4 A3 D4 B3>\n",
      "{248.0} <music21.note.Note B>\n",
      "{248.6667} <music21.chord.Chord B3 D4 F#4>\n",
      "{250.0} <music21.note.Note B>\n",
      "{250.75} <music21.note.Note E>\n",
      "{251.6667} <music21.chord.Chord A3 C4 E4 A2>\n",
      "{254.0} <music21.note.Note D>\n",
      "{254.6667} <music21.chord.Chord C4 E4 F#3 B4>\n",
      "{255.6667} <music21.chord.Chord G3 G4 B3 D4>\n",
      "{255.75} <music21.note.Note G>\n",
      "{258.0} <music21.chord.Chord D4 F4 G#3 C4>\n",
      "{258.0} <music21.note.Note E>\n",
      "{260.0} <music21.chord.Chord A3 A4 C4 E4 A2>\n",
      "{262.6667} <music21.chord.Chord C4 E4 F#3 B4 D3>\n",
      "{264.0} <music21.note.Note G>\n",
      "{264.75} <music21.chord.Chord G3 G4 B3 D4>\n",
      "{265.6667} <music21.note.Note D>\n",
      "{266.0} <music21.note.Note G>\n",
      "{266.75} <music21.chord.Chord G3 G4 B3 D4>\n",
      "{267.6667} <music21.note.Note B>\n",
      "{268.0} <music21.note.Note G>\n",
      "{268.0} <music21.chord.Chord G3 G4 B3 D4>\n",
      "{268.0} <music21.note.Rest rest>\n",
      "{268.75} <music21.chord.Chord D4 B3 G3>\n",
      "{269.6667} <music21.note.Note D>\n",
      "{272.0} <music21.chord.Chord G3 G4 B3 D4>\n",
      "{272.75} <music21.note.Note C#>\n",
      "{273.0} <music21.chord.Chord D4 B3 G3>\n",
      "{273.0} <music21.note.Note D>\n",
      "{273.6667} <music21.chord.Chord G3 G4 B3 D4>\n",
      "{273.75} <music21.note.Note G>\n",
      "{275.0} <music21.note.Rest rest>\n"
     ]
    },
    {
     "data": {
      "text/plain": [
       "'ornithology'"
      ]
     },
     "execution_count": 8,
     "metadata": {},
     "output_type": "execute_result"
    }
   ],
   "source": [
    "notes.flat.notesAndRests.show('text')\n",
    "chosen_title\n",
    "# notes.show('midi')"
   ]
  },
  {
   "cell_type": "code",
   "execution_count": 9,
   "metadata": {
    "collapsed": false,
    "scrolled": true,
    "tags": [
     "worksheet-0"
    ]
   },
   "outputs": [
    {
     "name": "stdout",
     "output_type": "stream",
     "text": [
      "First two measures:\n",
      "{0.0} <music21.note.Rest rest>\n",
      "{0.0} <music21.note.Rest rest>\n",
      "{0.0} <music21.note.Rest rest>\n",
      "{8.0} <music21.chord.Chord G3 B3 D4>\n",
      "{8.0} <music21.note.Note G>\n",
      "{8.0} <music21.note.Rest rest>\n",
      "{12.75} <music21.note.Note G>\n",
      "{13.0} <music21.note.Note B>\n",
      "{13.0} <music21.note.Note B>\n",
      "{13.0} <music21.note.Rest rest>\n",
      "{13.0} <music21.note.Note D>\n",
      "{13.75} <music21.chord.Chord B3 B4>\n",
      "{13.75} <music21.note.Note D>\n",
      "{14.75} <music21.note.Note G>\n",
      "{15.0} <music21.note.Note B>\n",
      "{15.0} <music21.note.Note B>\n",
      "{15.0} <music21.note.Note D>\n",
      "{16.0} <music21.note.Note G>\n",
      "{17.0} <music21.chord.Chord G3 G4 B-3 D4>\n",
      "{18.75} <music21.chord.Chord D4 B-3 G3>\n",
      "{20.0} <music21.note.Note C>\n",
      "{21.75} <music21.chord.Chord E4 C4 B-3 G4>\n",
      "{24.0} <music21.chord.Chord F3 F4 A3 C4>\n",
      "{24.0} <music21.note.Note F>\n",
      "{28.0} <music21.note.Note F>\n",
      "{28.0} <music21.chord.Chord F4 A3 C4>\n",
      "{29.6667} <music21.chord.Chord F3 F4 A3 C4>\n",
      "{30.6667} <music21.note.Note C>\n",
      "\n",
      "Extracted progression:\n",
      "['silence', 'silence', 'silence', 'silence', 'silence', 'silence', 'silence', 'silence', 'G', 'G', 'G', 'G', 'G', 'G', 'G', 'G', 'G', 'G', 'G', 'G', 'C', 'C', 'C', 'C', 'F', 'F', 'F', 'F', 'F', 'F', 'C']\n",
      "\n",
      "Harmonic changes:\n",
      "[7.0, 14.5, 16.0, 17.0, 20.0, 21.75, 24.0, 30.25]\n"
     ]
    }
   ],
   "source": [
    "\"\"\"Harmonic changes detection and chord progression extraction.\"\"\"\n",
    "\n",
    "# Extract the first 16 quarter-notes\n",
    "_beginning_notes = vmusic.extract_frame(notes, 0., 32.)\n",
    "# Compute offsets of harmonic changes (in quarter-length)\n",
    "harmonic_changes = vharm.from_stream_by_offsets(\n",
    "    _beginning_notes, framesize=1/4.)\n",
    "# Compute the chord progression in the extracted frame\n",
    "prog = vmusic.get_chord_progression(_beginning_notes)\n",
    "\n",
    "print(\"First two measures:\")\n",
    "_beginning_notes.show('text')\n",
    "print(\"\\nExtracted progression:\\n\" + str(prog))\n",
    "print(\"\\nHarmonic changes:\\n\" + str(harmonic_changes))"
   ]
  },
  {
   "cell_type": "code",
   "execution_count": 10,
   "metadata": {
    "collapsed": false,
    "tags": [
     "worksheet-0"
    ]
   },
   "outputs": [
    {
     "name": "stdout",
     "output_type": "stream",
     "text": [
      "{20.0} <music21.note.Note C>\n",
      "{21.75} <music21.chord.Chord E4 C4 B-3 G4>\n"
     ]
    }
   ],
   "source": [
    "# Extract one frame from the oracle using the original stream\n",
    "vmusic.extract_frame_oracle(notes.flat, oracle, 6).flat.show('text')"
   ]
  },
  {
   "cell_type": "code",
   "execution_count": 11,
   "metadata": {
    "collapsed": false,
    "tags": [
     "worksheet-0"
    ]
   },
   "outputs": [
    {
     "data": {
      "text/plain": [
       "\"Integrated MIDI playback.\\n\\nMight need some parameters-tweaking to work if midi player binding is not\\ndone straight out-of-the-box with music21.\\n\\nIn that case, run:\\n>>> from music21 import *\\n>>> us = environment.UserSettings()\\n>>> us.create()\\n>>> us['midiPath'] = <PATH/TO/MIDI/PLAYER>\\n>>> # Example : us['midiPath'] = u'/usr/bin/totem-audio-preview'\\n\""
      ]
     },
     "execution_count": 11,
     "metadata": {},
     "output_type": "execute_result"
    }
   ],
   "source": [
    "\"\"\"Integrated MIDI playback.\n",
    "\n",
    "Might need some parameters-tweaking to work if midi player binding is not\n",
    "done straight out-of-the-box with music21.\n",
    "\n",
    "In that case, run:\n",
    ">>> from music21 import *\n",
    ">>> us = environment.UserSettings()\n",
    ">>> us.create()\n",
    ">>> us['midiPath'] = <PATH/TO/MIDI/PLAYER>\n",
    ">>> # Example : us['midiPath'] = u'/usr/bin/totem-audio-preview'\n",
    "\"\"\"\n",
    "\n",
    "# _beginning_notes.show('midi')"
   ]
  },
  {
   "cell_type": "code",
   "execution_count": 13,
   "metadata": {
    "collapsed": false,
    "tags": [
     "worksheet-0"
    ]
   },
   "outputs": [
    {
     "name": "stderr",
     "output_type": "stream",
     "text": [
      "/Users/EJ/dev/vmo/vmo/utils/music21_interface.py:168: Music21DeprecationWarning: _getPitchClass was deprecated on May 2014 and will disappear at or after May 2016. use pitch.pitchClass instead\n",
      "  p_tonic = mus.note.Note(tonic).pitchClass\n"
     ]
    },
    {
     "ename": "OSError",
     "evalue": "[Errno 13] Permission denied",
     "output_type": "error",
     "traceback": [
      "\u001b[0;31m---------------------------------------------------------------------------\u001b[0m",
      "\u001b[0;31mOSError\u001b[0m                                   Traceback (most recent call last)",
      "\u001b[0;32m<ipython-input-13-4e1705aa8bbc>\u001b[0m in \u001b[0;36m<module>\u001b[0;34m()\u001b[0m\n\u001b[1;32m      7\u001b[0m \u001b[0;34m\u001b[0m\u001b[0m\n\u001b[1;32m      8\u001b[0m gen_path_1, chosen_tonic_1 = vmodel.make_progression_from_degrees(\n\u001b[0;32m----> 9\u001b[0;31m     oracle, prog_1, original_stream=notes, enable_motions=True)\n\u001b[0m\u001b[1;32m     10\u001b[0m gen_path_2, chosen_tonic_2 = vmodel.make_progression_from_degrees(\n\u001b[1;32m     11\u001b[0m     oracle, prog_2, original_stream=notes, enable_motions=True)\n",
      "\u001b[0;32m/Users/EJ/dev/vmo/vmo/logics/model_checking.pyc\u001b[0m in \u001b[0;36mmake_progression_from_degrees\u001b[0;34m(oracle, progressions, original_stream, mode, enable_motions, start, include_rsfx, silence_equivalence, allow_init, model_checker)\u001b[0m\n\u001b[1;32m    279\u001b[0m             silence_equivalence=silence_equivalence)\n\u001b[1;32m    280\u001b[0m         \u001b[0mtonic\u001b[0m \u001b[0;34m+=\u001b[0m \u001b[0;36m1\u001b[0m\u001b[0;34m\u001b[0m\u001b[0m\n\u001b[0;32m--> 281\u001b[0;31m         \u001b[0mresult\u001b[0m \u001b[0;34m=\u001b[0m \u001b[0mcheck\u001b[0m\u001b[0;34m.\u001b[0m\u001b[0mmake_counterexample\u001b[0m\u001b[0;34m(\u001b[0m\u001b[0mmodel_str\u001b[0m\u001b[0;34m,\u001b[0m \u001b[0mprogression_prop\u001b[0m\u001b[0;34m)\u001b[0m\u001b[0;34m\u001b[0m\u001b[0m\n\u001b[0m\u001b[1;32m    282\u001b[0m \u001b[0;34m\u001b[0m\u001b[0m\n\u001b[1;32m    283\u001b[0m     \u001b[0;32mreturn\u001b[0m \u001b[0;34m(\u001b[0m\u001b[0mresult\u001b[0m\u001b[0;34m,\u001b[0m \u001b[0mtonic_name\u001b[0m\u001b[0;34m)\u001b[0m\u001b[0;34m\u001b[0m\u001b[0m\n",
      "\u001b[0;32m/Users/EJ/dev/vmo/vmo/utils/nuxmv/check.pyc\u001b[0m in \u001b[0;36mmake_counterexample\u001b[0;34m(model_str, prop)\u001b[0m\n\u001b[1;32m    235\u001b[0m                            '-source', commands.name],  # Execute the commands\n\u001b[1;32m    236\u001b[0m                            \u001b[0mstdout\u001b[0m\u001b[0;34m=\u001b[0m\u001b[0mnuxmv_output\u001b[0m\u001b[0;34m,\u001b[0m  \u001b[0;31m# Redirect command-line output\u001b[0m\u001b[0;34m\u001b[0m\u001b[0m\n\u001b[0;32m--> 237\u001b[0;31m                            stderr=NULL) \n\u001b[0m\u001b[1;32m    238\u001b[0m     \u001b[0mnuxmv_output\u001b[0m\u001b[0;34m.\u001b[0m\u001b[0mflush\u001b[0m\u001b[0;34m(\u001b[0m\u001b[0;34m)\u001b[0m\u001b[0;34m\u001b[0m\u001b[0m\n\u001b[1;32m    239\u001b[0m     \u001b[0mnuxmv_output\u001b[0m\u001b[0;34m.\u001b[0m\u001b[0mseek\u001b[0m\u001b[0;34m(\u001b[0m\u001b[0;36m0\u001b[0m\u001b[0;34m)\u001b[0m\u001b[0;34m\u001b[0m\u001b[0m\n",
      "\u001b[0;32m/Users/EJ/anaconda/lib/python2.7/site-packages/subprocess32.pyc\u001b[0m in \u001b[0;36mcall\u001b[0;34m(*popenargs, **kwargs)\u001b[0m\n\u001b[1;32m    576\u001b[0m     \"\"\"\n\u001b[1;32m    577\u001b[0m     \u001b[0mtimeout\u001b[0m \u001b[0;34m=\u001b[0m \u001b[0mkwargs\u001b[0m\u001b[0;34m.\u001b[0m\u001b[0mpop\u001b[0m\u001b[0;34m(\u001b[0m\u001b[0;34m'timeout'\u001b[0m\u001b[0;34m,\u001b[0m \u001b[0mNone\u001b[0m\u001b[0;34m)\u001b[0m\u001b[0;34m\u001b[0m\u001b[0m\n\u001b[0;32m--> 578\u001b[0;31m     \u001b[0mp\u001b[0m \u001b[0;34m=\u001b[0m \u001b[0mPopen\u001b[0m\u001b[0;34m(\u001b[0m\u001b[0;34m*\u001b[0m\u001b[0mpopenargs\u001b[0m\u001b[0;34m,\u001b[0m \u001b[0;34m**\u001b[0m\u001b[0mkwargs\u001b[0m\u001b[0;34m)\u001b[0m\u001b[0;34m\u001b[0m\u001b[0m\n\u001b[0m\u001b[1;32m    579\u001b[0m     \u001b[0;32mtry\u001b[0m\u001b[0;34m:\u001b[0m\u001b[0;34m\u001b[0m\u001b[0m\n\u001b[1;32m    580\u001b[0m         \u001b[0;32mreturn\u001b[0m \u001b[0mp\u001b[0m\u001b[0;34m.\u001b[0m\u001b[0mwait\u001b[0m\u001b[0;34m(\u001b[0m\u001b[0mtimeout\u001b[0m\u001b[0;34m=\u001b[0m\u001b[0mtimeout\u001b[0m\u001b[0;34m)\u001b[0m\u001b[0;34m\u001b[0m\u001b[0m\n",
      "\u001b[0;32m/Users/EJ/anaconda/lib/python2.7/site-packages/subprocess32.pyc\u001b[0m in \u001b[0;36m__init__\u001b[0;34m(self, args, bufsize, executable, stdin, stdout, stderr, preexec_fn, close_fds, shell, cwd, env, universal_newlines, startupinfo, creationflags, restore_signals, start_new_session, pass_fds)\u001b[0m\n\u001b[1;32m    823\u001b[0m                                     \u001b[0mc2pread\u001b[0m\u001b[0;34m,\u001b[0m \u001b[0mc2pwrite\u001b[0m\u001b[0;34m,\u001b[0m\u001b[0;34m\u001b[0m\u001b[0m\n\u001b[1;32m    824\u001b[0m                                     \u001b[0merrread\u001b[0m\u001b[0;34m,\u001b[0m \u001b[0merrwrite\u001b[0m\u001b[0;34m,\u001b[0m\u001b[0;34m\u001b[0m\u001b[0m\n\u001b[0;32m--> 825\u001b[0;31m                                     restore_signals, start_new_session)\n\u001b[0m\u001b[1;32m    826\u001b[0m             \u001b[0;32mexcept\u001b[0m\u001b[0;34m:\u001b[0m\u001b[0;34m\u001b[0m\u001b[0m\n\u001b[1;32m    827\u001b[0m                 \u001b[0;31m# The cleanup is performed within the finally block rather\u001b[0m\u001b[0;34m\u001b[0m\u001b[0;34m\u001b[0m\u001b[0m\n",
      "\u001b[0;32m/Users/EJ/anaconda/lib/python2.7/site-packages/subprocess32.pyc\u001b[0m in \u001b[0;36m_execute_child\u001b[0;34m(self, args, executable, preexec_fn, close_fds, pass_fds, cwd, env, universal_newlines, startupinfo, creationflags, shell, p2cread, p2cwrite, c2pread, c2pwrite, errread, errwrite, restore_signals, start_new_session)\u001b[0m\n\u001b[1;32m   1572\u001b[0m                             \u001b[0;32melse\u001b[0m\u001b[0;34m:\u001b[0m\u001b[0;34m\u001b[0m\u001b[0m\n\u001b[1;32m   1573\u001b[0m                                 \u001b[0merr_msg\u001b[0m \u001b[0;34m+=\u001b[0m \u001b[0;34m': '\u001b[0m \u001b[0;34m+\u001b[0m \u001b[0mrepr\u001b[0m\u001b[0;34m(\u001b[0m\u001b[0morig_executable\u001b[0m\u001b[0;34m)\u001b[0m\u001b[0;34m\u001b[0m\u001b[0m\n\u001b[0;32m-> 1574\u001b[0;31m                     \u001b[0;32mraise\u001b[0m \u001b[0mchild_exception_type\u001b[0m\u001b[0;34m(\u001b[0m\u001b[0merrno_num\u001b[0m\u001b[0;34m,\u001b[0m \u001b[0merr_msg\u001b[0m\u001b[0;34m)\u001b[0m\u001b[0;34m\u001b[0m\u001b[0m\n\u001b[0m\u001b[1;32m   1575\u001b[0m                 \u001b[0;32mtry\u001b[0m\u001b[0;34m:\u001b[0m\u001b[0;34m\u001b[0m\u001b[0m\n\u001b[1;32m   1576\u001b[0m                     \u001b[0mexception\u001b[0m \u001b[0;34m=\u001b[0m \u001b[0mchild_exception_type\u001b[0m\u001b[0;34m(\u001b[0m\u001b[0merr_msg\u001b[0m\u001b[0;34m)\u001b[0m\u001b[0;34m\u001b[0m\u001b[0m\n",
      "\u001b[0;31mOSError\u001b[0m: [Errno 13] Permission denied"
     ]
    }
   ],
   "source": [
    "\"\"\"Chord-progression extraction.\"\"\"\n",
    "# Two sequences of degrees. We will try to generate a path following the first\n",
    "# then the second (possibibly with a non-empty arbitrary path between both) in `oracle`\n",
    "\n",
    "prog_1 = [[1, 4, 7, 3, 6, 7, 3, 6]]\n",
    "prog_2 = [[1, 4, 2, 5, 1, 6, 2, 5]]\n",
    "\n",
    "gen_path_1, chosen_tonic_1 = vmodel.make_progression_from_degrees(\n",
    "    oracle, prog_1, original_stream=notes, enable_motions=True)\n",
    "gen_path_2, chosen_tonic_2 = vmodel.make_progression_from_degrees(\n",
    "    oracle, prog_2, original_stream=notes, enable_motions=True)\n",
    "\n",
    "def path_printer(path, tonic):\n",
    "    if path:\n",
    "        print(\"A path has successfully been generated!\")\n",
    "        print(\"The chosen tonic is: \" + tonic)\n",
    "        print(\"\\nThe path is the following: \\n\")\n",
    "        for state in path:\n",
    "            print(state)\n",
    "    else:\n",
    "        print(\"No path was found.\")\n",
    "\n",
    "print(\"Path 1\\n\")\n",
    "path_printer(gen_path_1, chosen_tonic_1)\n",
    "\n",
    "print(\"\\n===\\n\\nPath 2\\n\")\n",
    "path_printer(gen_path_2, chosen_tonic_2)\n"
   ]
  },
  {
   "cell_type": "code",
   "execution_count": 52,
   "metadata": {
    "collapsed": false,
    "tags": [
     "worksheet-0"
    ]
   },
   "outputs": [
    {
     "name": "stderr",
     "output_type": "stream",
     "text": [
      "[autoreload of vmo.VMO.oracle failed: Traceback (most recent call last):\n",
      "  File \"/Users/EJ/anaconda/lib/python2.7/site-packages/IPython/extensions/autoreload.py\", line 247, in check\n",
      "    superreload(m, reload, self.old_objects)\n",
      "  File \"/Users/EJ/anaconda/lib/python2.7/site-packages/vmo/VMO/oracle.py\", line 160\n",
      "    def _init_new_state(self):\n",
      "    ^\n",
      "IndentationError: unexpected indent\n",
      "]\n"
     ]
    },
    {
     "ename": "NameError",
     "evalue": "name 'gen_path_1' is not defined",
     "output_type": "error",
     "traceback": [
      "\u001b[0;31m---------------------------------------------------------------------------\u001b[0m",
      "\u001b[0;31mNameError\u001b[0m                                 Traceback (most recent call last)",
      "\u001b[0;32m<ipython-input-52-7383d024dff4>\u001b[0m in \u001b[0;36m<module>\u001b[0;34m()\u001b[0m\n\u001b[1;32m      6\u001b[0m \u001b[0;31m# Recompose new stream from extracted path\u001b[0m\u001b[0;34m\u001b[0m\u001b[0;34m\u001b[0m\u001b[0m\n\u001b[1;32m      7\u001b[0m \u001b[0;34m\u001b[0m\u001b[0m\n\u001b[0;32m----> 8\u001b[0;31m \u001b[0;32mif\u001b[0m \u001b[0mgen_path_1\u001b[0m\u001b[0;34m:\u001b[0m\u001b[0;34m\u001b[0m\u001b[0m\n\u001b[0m\u001b[1;32m      9\u001b[0m     \u001b[0mextracted_1\u001b[0m \u001b[0;34m=\u001b[0m \u001b[0mvmusic\u001b[0m\u001b[0;34m.\u001b[0m\u001b[0mpath_to_stream\u001b[0m\u001b[0;34m(\u001b[0m\u001b[0mnotes\u001b[0m\u001b[0;34m,\u001b[0m \u001b[0mgen_path_1\u001b[0m\u001b[0;34m[\u001b[0m\u001b[0;36m0\u001b[0m\u001b[0;34m:\u001b[0m\u001b[0;34m-\u001b[0m\u001b[0;36m1\u001b[0m\u001b[0;34m]\u001b[0m\u001b[0;34m,\u001b[0m \u001b[0mframesize\u001b[0m\u001b[0;34m=\u001b[0m\u001b[0;36m4.0\u001b[0m\u001b[0;34m)\u001b[0m\u001b[0;34m.\u001b[0m\u001b[0mquantize\u001b[0m\u001b[0;34m(\u001b[0m\u001b[0;34m)\u001b[0m\u001b[0;34m\u001b[0m\u001b[0m\n\u001b[1;32m     10\u001b[0m     \u001b[0mmidiSave\u001b[0m\u001b[0;34m(\u001b[0m\u001b[0mextracted_1\u001b[0m\u001b[0;34m,\u001b[0m \u001b[0mchosen_title\u001b[0m \u001b[0;34m+\u001b[0m \u001b[0;34m'_genpath_1'\u001b[0m\u001b[0;34m)\u001b[0m\u001b[0;34m\u001b[0m\u001b[0m\n",
      "\u001b[0;31mNameError\u001b[0m: name 'gen_path_1' is not defined"
     ]
    }
   ],
   "source": [
    "def midiSave(stream, filename):\n",
    "    mf = mus.midi.translate.streamToMidiFile(stream)\n",
    "    mf.open(filename + '.mid', 'wb')\n",
    "    mf.write()\n",
    "\n",
    "# Recompose new stream from extracted path\n",
    "\n",
    "if gen_path_1:\n",
    "    extracted_1 = vmusic.path_to_stream(notes, gen_path_1[0:-1], framesize=4.0).quantize()\n",
    "    midiSave(extracted_1, chosen_title + '_genpath_1')\n",
    "    print(vmusic.get_chord_progression(extracted_1, framesize=4.0))\n",
    "    \n",
    "    # Plot piano roll of the extracted stream\n",
    "    extracted_1.plot('pianoroll')\n",
    "    \n",
    "if gen_path_2:\n",
    "    extracted_2 = vmusic.path_to_stream(notes, gen_path_2[0:-1], framesize=4.0).quantize()\n",
    "    midiSave(extracted_2, chosen_title + '_genpath_2')\n",
    "    print(vmusic.get_chord_progression(extracted_2, framesize=4.0))\n",
    "    \n",
    "    # Plot piano roll of the extracted stream\n",
    "    extracted_2.plot('pianoroll')"
   ]
  },
  {
   "cell_type": "code",
   "execution_count": null,
   "metadata": {
    "collapsed": true
   },
   "outputs": [],
   "source": [
    "extracted_1.show('midi')"
   ]
  },
  {
   "cell_type": "code",
   "execution_count": null,
   "metadata": {
    "collapsed": true
   },
   "outputs": [],
   "source": [
    "extracted_2.show('midi')"
   ]
  },
  {
   "cell_type": "code",
   "execution_count": null,
   "metadata": {
    "collapsed": false
   },
   "outputs": [],
   "source": []
  },
  {
   "cell_type": "code",
   "execution_count": null,
   "metadata": {
    "collapsed": false
   },
   "outputs": [],
   "source": []
  }
 ],
 "metadata": {
  "anaconda-cloud": {},
  "kernelspec": {
   "display_name": "Python [Root]",
   "language": "python",
   "name": "Python [Root]"
  },
  "language_info": {
   "codemirror_mode": {
    "name": "ipython",
    "version": 2
   },
   "file_extension": ".py",
   "mimetype": "text/x-python",
   "name": "python",
   "nbconvert_exporter": "python",
   "pygments_lexer": "ipython2",
   "version": "2.7.12"
  }
 },
 "nbformat": 4,
 "nbformat_minor": 0
}
