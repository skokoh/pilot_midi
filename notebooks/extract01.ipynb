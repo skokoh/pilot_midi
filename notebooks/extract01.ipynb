{
 "metadata": {
  "anaconda-cloud": {},
  "kernelspec": {
   "display_name": "Python [ipykernel_py2]",
   "language": "python",
   "name": "Python [ipykernel_py2]"
  },
  "language_info": {
   "codemirror_mode": {
    "name": "ipython",
    "version": 2
   },
   "file_extension": ".py",
   "mimetype": "text/x-python",
   "name": "python",
   "nbconvert_exporter": "python",
   "pygments_lexer": "ipython2",
   "version": "2.7.12"
  },
  "name": "",
  "signature": "sha256:d5c87e7c989a1c3e37819360a759fa93c703fba56a721e99ca98f8f38a9280fb"
 },
 "nbformat": 3,
 "nbformat_minor": 0,
 "worksheets": [
  {
   "cells": [
    {
     "cell_type": "code",
     "collapsed": false,
     "input": [],
     "language": "python",
     "metadata": {},
     "outputs": []
    },
    {
     "cell_type": "code",
     "collapsed": false,
     "input": [
      "import sys\n",
      "print sys.executable\n",
      "\n",
      "\n",
      "import numpy as np\n",
      "import os.path as path\n",
      "\n",
      "import matplotlib.pyplot as plt\n",
      "%matplotlib inline\n",
      "import sklearn.preprocessing as pre\n",
      "# import librosa\n",
      "import music21 as mus\n",
      "\n",
      "import vmo\n",
      "import vmo.analysis as van\n",
      "import vmo.generate as vge\n",
      "# Music analysis\n",
      "#import vmo.utils.chromagram as vchroma\n",
      "import vmo.utils.music21_interface as vmusic\n",
      "import vmo.utils.harmonic_changes as vharm\n",
      "# Logics\n",
      "import vmo.logics.model_checking as vmodel\n",
      "\n",
      "## Midi file access\n",
      "midi_path = path.expanduser('~/Downloads')\n",
      "midi_file = 'Yellow_Submarine.mid'\n",
      "\n",
      "#titles = ['blues_for_alice', 'marmaduke',\n",
      "#          'now_s_the_time', 'ornithology']\n",
      "#title = titles[2]\n",
      "#midi_file = 'charlie_parker/omnibook/' + title + '.mid'\n",
      "\n",
      "\"\"\"Oracle generation.\"\"\"\n",
      "\n",
      "# Generate music21 stream from MIDI file\n",
      "stream_full_band = mus.converter.parse(midi_path + midi_file)\n",
      "stream = stream_full_band[2]\n",
      "\n",
      "# Extract the sequences of notes from the stream\n",
      "notes = stream.flat.notes\n",
      "\n",
      "# Generate VMO from music21 stream\n",
      "oracle = vmusic.from_stream(notes, framesize=4.0, dfunc='tonnetz', threshold=0.2)"
     ],
     "language": "python",
     "metadata": {},
     "outputs": [
      {
       "output_type": "stream",
       "stream": "stdout",
       "text": [
        "/Users/EJ/anaconda/bin/python\n"
       ]
      },
      {
       "ename": "ImportError",
       "evalue": "No module named utils.music21_interface",
       "output_type": "pyerr",
       "traceback": [
        "\u001b[0;31m---------------------------------------------------------------------------\u001b[0m\n\u001b[0;31mImportError\u001b[0m                               Traceback (most recent call last)",
        "\u001b[0;32m<ipython-input-3-cc889c83047e>\u001b[0m in \u001b[0;36m<module>\u001b[0;34m()\u001b[0m\n\u001b[1;32m     17\u001b[0m \u001b[0;31m# Music analysis\u001b[0m\u001b[0;34m\u001b[0m\u001b[0;34m\u001b[0m\u001b[0m\n\u001b[1;32m     18\u001b[0m \u001b[0;31m#import vmo.utils.chromagram as vchroma\u001b[0m\u001b[0;34m\u001b[0m\u001b[0;34m\u001b[0m\u001b[0m\n\u001b[0;32m---> 19\u001b[0;31m \u001b[0;32mimport\u001b[0m \u001b[0mvmo\u001b[0m\u001b[0;34m.\u001b[0m\u001b[0mutils\u001b[0m\u001b[0;34m.\u001b[0m\u001b[0mmusic21_interface\u001b[0m \u001b[0;32mas\u001b[0m \u001b[0mvmusic\u001b[0m\u001b[0;34m\u001b[0m\u001b[0m\n\u001b[0m\u001b[1;32m     20\u001b[0m \u001b[0;32mimport\u001b[0m \u001b[0mvmo\u001b[0m\u001b[0;34m.\u001b[0m\u001b[0mutils\u001b[0m\u001b[0;34m.\u001b[0m\u001b[0mharmonic_changes\u001b[0m \u001b[0;32mas\u001b[0m \u001b[0mvharm\u001b[0m\u001b[0;34m\u001b[0m\u001b[0m\n\u001b[1;32m     21\u001b[0m \u001b[0;31m# Logics\u001b[0m\u001b[0;34m\u001b[0m\u001b[0;34m\u001b[0m\u001b[0m\n",
        "\u001b[0;31mImportError\u001b[0m: No module named utils.music21_interface"
       ]
      }
     ],
     "prompt_number": 3
    },
    {
     "cell_type": "code",
     "collapsed": true,
     "input": [],
     "language": "python",
     "metadata": {},
     "outputs": []
    },
    {
     "cell_type": "code",
     "collapsed": true,
     "input": [],
     "language": "python",
     "metadata": {},
     "outputs": [],
     "prompt_number": null
    },
    {
     "cell_type": "code",
     "collapsed": true,
     "input": [],
     "language": "python",
     "metadata": {},
     "outputs": [],
     "prompt_number": null
    },
    {
     "cell_type": "code",
     "collapsed": true,
     "input": [],
     "language": "python",
     "metadata": {},
     "outputs": [],
     "prompt_number": null
    }
   ],
   "metadata": {}
  }
 ]
}