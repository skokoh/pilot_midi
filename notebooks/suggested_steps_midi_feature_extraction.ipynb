{
 "cells": [
  {
   "cell_type": "code",
   "execution_count": 1,
   "metadata": {
    "collapsed": false
   },
   "outputs": [],
   "source": [
    "%load_ext autoreload\n",
    "%autoreload 2"
   ]
  },
  {
   "cell_type": "markdown",
   "metadata": {},
   "source": [
    "## Load MIDI file\n",
    "1. Read a .mid file\n",
    "2. Extract a matrix (either as a list of lists or numpy matrix) representing note velocity over time. In other words, the x-axis of the returned matrix represents time and y-axis represents pitch values (0-127). The entries in the matrix represents velocity (0-127). The time interval could be evenly spaced, potentially the smallest duration presented in the .mid file, such as 16th or 32nd notes, or the time interval could be based on note onset event. \n",
    "3. Plot the returned matrix (using matplotlib.imshow)"
   ]
  },
  {
   "cell_type": "markdown",
   "metadata": {},
   "source": [
    "## Extract MIDI features\n",
    "1. List three features\n",
    "2. Implment the feature extraction functions operating on the returned matrix from above section\n",
    "3. Apply the feature extraction functions on the returned matrix\n",
    "4. Plot the returned features appropriately"
   ]
  },
  {
   "cell_type": "code",
   "execution_count": null,
   "metadata": {
    "collapsed": true
   },
   "outputs": [],
   "source": []
  }
 ],
 "metadata": {
  "anaconda-cloud": {},
  "kernelspec": {
   "display_name": "Python [Root]",
   "language": "python",
   "name": "Python [Root]"
  },
  "language_info": {
   "codemirror_mode": {
    "name": "ipython",
    "version": 2
   },
   "file_extension": ".py",
   "mimetype": "text/x-python",
   "name": "python",
   "nbconvert_exporter": "python",
   "pygments_lexer": "ipython2",
   "version": "2.7.12"
  }
 },
 "nbformat": 4,
 "nbformat_minor": 1
}
