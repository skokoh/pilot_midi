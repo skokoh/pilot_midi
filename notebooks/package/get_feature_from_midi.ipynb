{
 "cells": [
  {
   "cell_type": "code",
   "execution_count": null,
   "metadata": {
    "collapsed": true
   },
   "outputs": [],
   "source": [
    "import os\n",
    "import numpy as np\n",
    "import pretty_midi\n",
    "\n",
    "import matplotlib.pyplot as plt "
   ]
  },
  {
   "cell_type": "code",
   "execution_count": null,
   "metadata": {
    "collapsed": true
   },
   "outputs": [],
   "source": [
    "class feature(object):\n",
    "    def __init__(self):\n",
    "        \n",
    "        "
   ]
  },
  {
   "cell_type": "code",
   "execution_count": null,
   "metadata": {
    "collapsed": true
   },
   "outputs": [],
   "source": [
    "    ## need to check instrument number first\n",
    "    def pianoroll(self, midi_file, instrument):\n",
    "        midi = pretty_midi.PrettyMIDI(midi_file)\n",
    "        option = instrument ## need to fix\n",
    "        m = midi.instruments[option].get_piano_roll(fs=100)\n",
    "        \n",
    "        return m"
   ]
  },
  {
   "cell_type": "code",
   "execution_count": 9,
   "metadata": {
    "collapsed": true
   },
   "outputs": [],
   "source": [
    "    def calculate_chroma(self, midi_file):\n",
    "        # get midi information from pretty_midi\n",
    "        midi = pretty_midi.PrettyMIDI(midi_file) \n",
    "        # chroma matrix - the energy in each semitone across octaves\n",
    "        chroma_midi = midi.get_chroma(times=np.arange(0, midi.get_end_time(), 1/25.0))\n",
    "        ## 0.04sec\n",
    "\n",
    "        # normalize chroma_matrix columnwise by max\n",
    "        chroma_midi /= (chroma_midi.max(axis=0) + (chroma_midi.max(axis=0) == 0))\n",
    "\n",
    "        return chroma_midi"
   ]
  },
  {
   "cell_type": "code",
   "execution_count": null,
   "metadata": {
    "collapsed": true
   },
   "outputs": [],
   "source": [
    "    def chroma_energy(self):\n",
    "        ## chroma energy distribution\n",
    "\n",
    "        chroma_midi_norm = chroma_midi / np.sum(chroma_midi, axis=0)\n",
    "        chroma_midi_norm = np.nan_to_num(chroma_midi_norm)\n",
    "\n",
    "        CENS_midi = np.zeros(tuple(chroma_midi.shape[0:2])) \n",
    "\n",
    "        CENS_midi[np.where(chroma_midi_norm > 0.4)] = 4\n",
    "        CENS_midi[np.where((chroma_midi_norm >= 0.2) & (chroma_midi_norm <= 0.4))] = 3\n",
    "        CENS_midi[np.where((chroma_midi_norm >= 0.1) & (chroma_midi_norm < 0.2))]  = 2\n",
    "        CENS_midi[np.where((chroma_midi_norm >= 0.05) & (chroma_midi_norm < 0.1))]  = 1\n",
    "        CENS_midi[np.where(chroma_midi_norm < 0.05)]  = 0\n",
    "\n",
    "        return CENS_midi"
   ]
  },
  {
   "cell_type": "code",
   "execution_count": null,
   "metadata": {
    "collapsed": true
   },
   "outputs": [],
   "source": [
    "    def chroma_energy_han(self):\n",
    "        ## CENS_midi_hann\n",
    "        \n",
    "        CENS_midi_hann = np.zeros(tuple(CENS_midi.shape[0:2]))\n",
    "        \n",
    "        for i in range(12):\n",
    "            for j in np.arange(0,CENS_midi.shape[1],41):\n",
    "                CENS_midi_hann[i,j:j+41] = np.convolve(CENS_midi[i,j:j+41],np.hanning(41)[0:CENS_midi[i,j:j+41].shape[0]],'same')\n",
    "\n",
    "        CENS_midi_hann /= np.linalg.norm(CENS_midi_hann,2,axis=0)\n",
    "        CENS_midi_hann = np.nan_to_num(CENS_midi_hann)\n",
    "        \n",
    "        return CENS_midi_hann"
   ]
  },
  {
   "cell_type": "code",
   "execution_count": 10,
   "metadata": {
    "collapsed": false
   },
   "outputs": [],
   "source": [
    "midif = '/Users/EJ/dev/vmo/bin/files/midi/parker_omnibook/now_s_the_time.mid'\n",
    "midi_ext = calculate_chroma(midif)"
   ]
  },
  {
   "cell_type": "code",
   "execution_count": 7,
   "metadata": {
    "collapsed": false
   },
   "outputs": [
    {
     "data": {
      "image/png": "[encoded data removed]",
      "text/plain": [
       "<matplotlib.figure.Figure at 0x10ba79b90>"
      ]
     },
     "metadata": {},
     "output_type": "display_data"
    }
   ],
   "source": [
    "plt.figure(figsize=(20,4))\n",
    "plt.imshow(midi_ext, origin='lower', aspect='auto', interpolation='nearest', cmap=plt.cm.OrRd)\n",
    "plt.tight_layout()\n",
    "plt.show();"
   ]
  },
  {
   "cell_type": "code",
   "execution_count": null,
   "metadata": {
    "collapsed": true
   },
   "outputs": [],
   "source": []
  }
 ],
 "metadata": {
  "anaconda-cloud": {},
  "kernelspec": {
   "display_name": "Python [Root]",
   "language": "python",
   "name": "Python [Root]"
  },
  "language_info": {
   "codemirror_mode": {
    "name": "ipython",
    "version": 2
   },
   "file_extension": ".py",
   "mimetype": "text/x-python",
   "name": "python",
   "nbconvert_exporter": "python",
   "pygments_lexer": "ipython2",
   "version": "2.7.12"
  }
 },
 "nbformat": 4,
 "nbformat_minor": 0
}
